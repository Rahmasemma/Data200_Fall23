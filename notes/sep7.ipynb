{
 "cells": [
  {
   "cell_type": "code",
   "execution_count": 3,
   "id": "0801a513",
   "metadata": {},
   "outputs": [],
   "source": [
    "import os\n",
    "\n"
   ]
  },
  {
   "cell_type": "code",
   "execution_count": 7,
   "id": "e3c8fa16",
   "metadata": {},
   "outputs": [
    {
     "data": {
      "text/plain": [
       "<_io.TextIOWrapper name='/Users/rahmasemma/Documents/GitHub/Data200_Fall23/data/hello.txt' mode='r' encoding='UTF-8'>"
      ]
     },
     "execution_count": 7,
     "metadata": {},
     "output_type": "execute_result"
    }
   ],
   "source": [
    "file"
   ]
  },
  {
   "cell_type": "code",
   "execution_count": 8,
   "id": "8e8ded45",
   "metadata": {},
   "outputs": [],
   "source": [
    "# absolute path\n",
    "file = open('/Users/rahmasemma/Documents/GitHub/Data200_Fall23/data/hello.txt','r')"
   ]
  },
  {
   "cell_type": "code",
   "execution_count": 10,
   "id": "f195833f",
   "metadata": {},
   "outputs": [
    {
     "data": {
      "text/plain": [
       "<_io.TextIOWrapper name='/Users/rahmasemma/Documents/GitHub/Data200_Fall23/data/hello.txt' mode='r' encoding='UTF-8'>"
      ]
     },
     "execution_count": 10,
     "metadata": {},
     "output_type": "execute_result"
    }
   ],
   "source": [
    "file"
   ]
  },
  {
   "cell_type": "code",
   "execution_count": 11,
   "id": "a2423884",
   "metadata": {},
   "outputs": [
    {
     "name": "stdout",
     "output_type": "stream",
     "text": [
      "<_io.TextIOWrapper name='/Users/rahmasemma/Documents/GitHub/Data200_Fall23/data/hello.txt' mode='r' encoding='UTF-8'>\n"
     ]
    }
   ],
   "source": [
    "print(file)"
   ]
  },
  {
   "cell_type": "code",
   "execution_count": 12,
   "id": "f5696c35",
   "metadata": {},
   "outputs": [
    {
     "ename": "FileNotFoundError",
     "evalue": "[Errno 2] No such file or directory: 'hello.txt'",
     "output_type": "error",
     "traceback": [
      "\u001b[0;31m---------------------------------------------------------------------------\u001b[0m",
      "\u001b[0;31mFileNotFoundError\u001b[0m                         Traceback (most recent call last)",
      "Cell \u001b[0;32mIn[12], line 1\u001b[0m\n\u001b[0;32m----> 1\u001b[0m file \u001b[38;5;241m=\u001b[39m \u001b[38;5;28mopen\u001b[39m(\u001b[38;5;124m'\u001b[39m\u001b[38;5;124mhello.txt\u001b[39m\u001b[38;5;124m'\u001b[39m)\n",
      "File \u001b[0;32m~/anaconda3/lib/python3.11/site-packages/IPython/core/interactiveshell.py:284\u001b[0m, in \u001b[0;36m_modified_open\u001b[0;34m(file, *args, **kwargs)\u001b[0m\n\u001b[1;32m    277\u001b[0m \u001b[38;5;28;01mif\u001b[39;00m file \u001b[38;5;129;01min\u001b[39;00m {\u001b[38;5;241m0\u001b[39m, \u001b[38;5;241m1\u001b[39m, \u001b[38;5;241m2\u001b[39m}:\n\u001b[1;32m    278\u001b[0m     \u001b[38;5;28;01mraise\u001b[39;00m \u001b[38;5;167;01mValueError\u001b[39;00m(\n\u001b[1;32m    279\u001b[0m         \u001b[38;5;124mf\u001b[39m\u001b[38;5;124m\"\u001b[39m\u001b[38;5;124mIPython won\u001b[39m\u001b[38;5;124m'\u001b[39m\u001b[38;5;124mt let you open fd=\u001b[39m\u001b[38;5;132;01m{\u001b[39;00mfile\u001b[38;5;132;01m}\u001b[39;00m\u001b[38;5;124m by default \u001b[39m\u001b[38;5;124m\"\u001b[39m\n\u001b[1;32m    280\u001b[0m         \u001b[38;5;124m\"\u001b[39m\u001b[38;5;124mas it is likely to crash IPython. If you know what you are doing, \u001b[39m\u001b[38;5;124m\"\u001b[39m\n\u001b[1;32m    281\u001b[0m         \u001b[38;5;124m\"\u001b[39m\u001b[38;5;124myou can use builtins\u001b[39m\u001b[38;5;124m'\u001b[39m\u001b[38;5;124m open.\u001b[39m\u001b[38;5;124m\"\u001b[39m\n\u001b[1;32m    282\u001b[0m     )\n\u001b[0;32m--> 284\u001b[0m \u001b[38;5;28;01mreturn\u001b[39;00m io_open(file, \u001b[38;5;241m*\u001b[39margs, \u001b[38;5;241m*\u001b[39m\u001b[38;5;241m*\u001b[39mkwargs)\n",
      "\u001b[0;31mFileNotFoundError\u001b[0m: [Errno 2] No such file or directory: 'hello.txt'"
     ]
    }
   ],
   "source": [
    "file = open('hello.txt')"
   ]
  },
  {
   "cell_type": "code",
   "execution_count": 8,
   "id": "fbb9444d",
   "metadata": {},
   "outputs": [
    {
     "data": {
      "text/plain": [
       "<_io.TextIOWrapper name='hello.txt' mode='r' encoding='UTF-8'>"
      ]
     },
     "execution_count": 8,
     "metadata": {},
     "output_type": "execute_result"
    }
   ],
   "source": [
    "file"
   ]
  },
  {
   "cell_type": "code",
   "execution_count": 10,
   "id": "fc5d218b",
   "metadata": {},
   "outputs": [
    {
     "data": {
      "text/plain": [
       "'/Users/bilene'"
      ]
     },
     "execution_count": 10,
     "metadata": {},
     "output_type": "execute_result"
    }
   ],
   "source": [
    "# import the os library\n",
    "import os\n",
    "\n",
    "# check current working directory\n",
    "os.getcwd()"
   ]
  },
  {
   "cell_type": "code",
   "execution_count": 11,
   "id": "fc9bcf70",
   "metadata": {},
   "outputs": [],
   "source": [
    "# change directory\n",
    "os.chdir(\"/Users/bilene/Downloads\")"
   ]
  },
  {
   "cell_type": "code",
   "execution_count": 12,
   "id": "6d264407",
   "metadata": {},
   "outputs": [
    {
     "data": {
      "text/plain": [
       "'/Users/bilene/Downloads'"
      ]
     },
     "execution_count": 12,
     "metadata": {},
     "output_type": "execute_result"
    }
   ],
   "source": [
    "os.getcwd()"
   ]
  },
  {
   "cell_type": "code",
   "execution_count": 13,
   "id": "313f5175",
   "metadata": {},
   "outputs": [],
   "source": [
    "# make directory\n",
    "os.mkdir(\"/Users/bilene/Downloads/newfolder\")"
   ]
  },
  {
   "cell_type": "code",
   "execution_count": 15,
   "id": "b8ea7999",
   "metadata": {},
   "outputs": [],
   "source": [
    "os.chdir(\"/Users/bilene/Downloads/newfolder\")"
   ]
  },
  {
   "cell_type": "code",
   "execution_count": 16,
   "id": "284140b1",
   "metadata": {},
   "outputs": [
    {
     "data": {
      "text/plain": [
       "'/Users/bilene/Downloads/newfolder'"
      ]
     },
     "execution_count": 16,
     "metadata": {},
     "output_type": "execute_result"
    }
   ],
   "source": [
    "os.getcwd()"
   ]
  },
  {
   "cell_type": "code",
   "execution_count": 17,
   "id": "dfe2f7e3",
   "metadata": {},
   "outputs": [
    {
     "data": {
      "text/plain": [
       "'/Users/bilene/hello.txt'"
      ]
     },
     "execution_count": 17,
     "metadata": {},
     "output_type": "execute_result"
    }
   ],
   "source": [
    "datadir = '/Users/bilene'\n",
    "filepath = os.path.join(datadir, 'hello.txt')\n",
    "filepath"
   ]
  },
  {
   "cell_type": "code",
   "execution_count": 19,
   "id": "bcfdbbc5",
   "metadata": {},
   "outputs": [
    {
     "data": {
      "text/plain": [
       "<_io.TextIOWrapper name='/Users/bilene/hello.txt' mode='r' encoding='UTF-8'>"
      ]
     },
     "execution_count": 19,
     "metadata": {},
     "output_type": "execute_result"
    }
   ],
   "source": [
    "file = open(filepath)\n",
    "file"
   ]
  },
  {
   "cell_type": "code",
   "execution_count": 20,
   "id": "15596b22",
   "metadata": {},
   "outputs": [
    {
     "name": "stdout",
     "output_type": "stream",
     "text": [
      "File opened successfully\n"
     ]
    }
   ],
   "source": [
    "# try-except block that prints \"File opened successfully\" if the file is opened,\n",
    "# and otherwise it prints \"Error opening file\"\n",
    "try:\n",
    "    file = open(filepath)\n",
    "    print(\"File opened successfully\")\n",
    "except OSError:\n",
    "    print(\"Error opening file\")\n",
    "\n",
    "# close the file\n",
    "file.close()"
   ]
  },
  {
   "cell_type": "code",
   "execution_count": 21,
   "id": "9c20751b",
   "metadata": {},
   "outputs": [],
   "source": [
    "# read file using read()\n",
    "filepath = os.path.join(datadir, 'hello.txt')\n",
    "file = open(filepath)\n",
    "\n",
    "contents = file.read()\n",
    "\n",
    "file.close()"
   ]
  },
  {
   "cell_type": "code",
   "execution_count": 22,
   "id": "f19d3a4c",
   "metadata": {},
   "outputs": [
    {
     "name": "stdout",
     "output_type": "stream",
     "text": [
      "Hello World!\n",
      "\n"
     ]
    }
   ],
   "source": [
    "print(contents)"
   ]
  },
  {
   "cell_type": "code",
   "execution_count": 25,
   "id": "fec416f0",
   "metadata": {},
   "outputs": [
    {
     "name": "stdout",
     "output_type": "stream",
     "text": [
      "First line\n",
      " A second line\n",
      "\n"
     ]
    }
   ],
   "source": [
    "# read file using readline()\n",
    "filepath = os.path.join(datadir, 'twolines.txt')\n",
    "file = open(filepath)\n",
    "\n",
    "contents1 = file.readline()\n",
    "contents2 = file.readline()\n",
    "\n",
    "file.close()\n",
    "\n",
    "print(contents1, contents2)"
   ]
  },
  {
   "cell_type": "code",
   "execution_count": 26,
   "id": "9cfba18f",
   "metadata": {},
   "outputs": [
    {
     "name": "stdout",
     "output_type": "stream",
     "text": [
      "['First line\\n', 'A second line\\n']\n"
     ]
    }
   ],
   "source": [
    "# read file using readlines()\n",
    "filepath = os.path.join(datadir, 'twolines.txt')\n",
    "file = open(filepath)\n",
    "\n",
    "contents = file.readlines()\n",
    "\n",
    "file.close()\n",
    "\n",
    "print(contents)"
   ]
  },
  {
   "cell_type": "code",
   "execution_count": 29,
   "id": "b567101b",
   "metadata": {},
   "outputs": [
    {
     "data": {
      "text/plain": [
       "'First line\\n'"
      ]
     },
     "execution_count": 29,
     "metadata": {},
     "output_type": "execute_result"
    }
   ],
   "source": [
    "contents[0]"
   ]
  },
  {
   "cell_type": "code",
   "execution_count": null,
   "id": "97ac63be",
   "metadata": {},
   "outputs": [],
   "source": []
  },
  {
   "cell_type": "code",
   "execution_count": 3,
   "id": "36c8a188",
   "metadata": {},
   "outputs": [
    {
     "data": {
      "text/plain": [
       "'/Users/rahmasemma/Documents/GitHub/Data200_Fall23/notes'"
      ]
     },
     "execution_count": 3,
     "metadata": {},
     "output_type": "execute_result"
    }
   ],
   "source": [
    "import os\n",
    "os.getcwd()"
   ]
  },
  {
   "cell_type": "code",
<<<<<<< HEAD:notes/demo 9-5.ipynb
   "execution_count": 16,
=======
   "execution_count": 29,
>>>>>>> 715c8b1c233b3696846261045903e0e918ccd4f6:notes/sep7.ipynb
   "id": "90fd355c",
   "metadata": {},
   "outputs": [
    {
<<<<<<< HEAD:notes/demo 9-5.ipynb
     "ename": "FileNotFoundError",
     "evalue": "[Errno 2] No such file or directory: 'baby_2010_female_name.txt'",
     "output_type": "error",
     "traceback": [
      "\u001b[0;31m---------------------------------------------------------------------------\u001b[0m",
      "\u001b[0;31mFileNotFoundError\u001b[0m                         Traceback (most recent call last)",
      "Cell \u001b[0;32mIn[16], line 3\u001b[0m\n\u001b[1;32m      1\u001b[0m \u001b[38;5;66;03m# open and read 'baby_2010_female_name.txt' using read(), readline(), and readlines()\u001b[39;00m\n\u001b[1;32m      2\u001b[0m \u001b[38;5;66;03m# read()\u001b[39;00m\n\u001b[0;32m----> 3\u001b[0m file \u001b[38;5;241m=\u001b[39m \u001b[38;5;28mopen\u001b[39m(\u001b[38;5;124m'\u001b[39m\u001b[38;5;124mbaby_2010_female_name.txt\u001b[39m\u001b[38;5;124m'\u001b[39m, \u001b[38;5;124m'\u001b[39m\u001b[38;5;124mr\u001b[39m\u001b[38;5;124m'\u001b[39m)\n\u001b[1;32m      4\u001b[0m filestr \u001b[38;5;241m=\u001b[39m file\u001b[38;5;241m.\u001b[39mread()\n\u001b[1;32m      5\u001b[0m file\u001b[38;5;241m.\u001b[39mclose()\n",
      "File \u001b[0;32m~/anaconda3/lib/python3.11/site-packages/IPython/core/interactiveshell.py:284\u001b[0m, in \u001b[0;36m_modified_open\u001b[0;34m(file, *args, **kwargs)\u001b[0m\n\u001b[1;32m    277\u001b[0m \u001b[38;5;28;01mif\u001b[39;00m file \u001b[38;5;129;01min\u001b[39;00m {\u001b[38;5;241m0\u001b[39m, \u001b[38;5;241m1\u001b[39m, \u001b[38;5;241m2\u001b[39m}:\n\u001b[1;32m    278\u001b[0m     \u001b[38;5;28;01mraise\u001b[39;00m \u001b[38;5;167;01mValueError\u001b[39;00m(\n\u001b[1;32m    279\u001b[0m         \u001b[38;5;124mf\u001b[39m\u001b[38;5;124m\"\u001b[39m\u001b[38;5;124mIPython won\u001b[39m\u001b[38;5;124m'\u001b[39m\u001b[38;5;124mt let you open fd=\u001b[39m\u001b[38;5;132;01m{\u001b[39;00mfile\u001b[38;5;132;01m}\u001b[39;00m\u001b[38;5;124m by default \u001b[39m\u001b[38;5;124m\"\u001b[39m\n\u001b[1;32m    280\u001b[0m         \u001b[38;5;124m\"\u001b[39m\u001b[38;5;124mas it is likely to crash IPython. If you know what you are doing, \u001b[39m\u001b[38;5;124m\"\u001b[39m\n\u001b[1;32m    281\u001b[0m         \u001b[38;5;124m\"\u001b[39m\u001b[38;5;124myou can use builtins\u001b[39m\u001b[38;5;124m'\u001b[39m\u001b[38;5;124m open.\u001b[39m\u001b[38;5;124m\"\u001b[39m\n\u001b[1;32m    282\u001b[0m     )\n\u001b[0;32m--> 284\u001b[0m \u001b[38;5;28;01mreturn\u001b[39;00m io_open(file, \u001b[38;5;241m*\u001b[39margs, \u001b[38;5;241m*\u001b[39m\u001b[38;5;241m*\u001b[39mkwargs)\n",
      "\u001b[0;31mFileNotFoundError\u001b[0m: [Errno 2] No such file or directory: 'baby_2010_female_name.txt'"
=======
     "name": "stdout",
     "output_type": "stream",
     "text": [
      "Isabella\n",
      "Sophia\n",
      "Emma\n",
      "Olivia\n",
      "Ava\n",
      "\n",
      "['Isabella', 'Sophia', 'Emma', 'Olivia', 'Ava']\n",
      "Isabella\n",
      "Sophia\n",
      "Emma\n",
      "Olivia\n",
      "Ava\n",
      "['Isabella', 'Sophia', 'Emma', 'Olivia', 'Ava']\n"
>>>>>>> 715c8b1c233b3696846261045903e0e918ccd4f6:notes/sep7.ipynb
     ]
    }
   ],
   "source": [
    "# open and read 'baby_2010_female_name.txt' using read(), readline(), and readlines()\n",
    "\n",
    "# read()\n",
<<<<<<< HEAD:notes/demo 9-5.ipynb
    "file = open('baby_2010_female_name.txt', 'r')\n",
    "filestr = file.read()\n",
    "file.close()\n",
    "print(filestr)\n",
    "\n",
    "# readline()\n",
    "file = open('baby_2010_female_name.txt', 'r')\n",
    "line = 5\n",
    "namelist = []\n",
    "for lineindex in range(line):\n",
    "    line = file.readlines()\n",
    "    namelist.append(line)\n",
    "file.close()\n",
=======
    "femBabyNames = open(\"baby_2010_female_name.txt\", \"r\")\n",
    "fileString = femBabyNames.read()\n",
    "femBabyNames.close()\n",
    "print(fileString)\n",
    "\n",
    "# readline()\n",
    "femBabyNames = open(\"baby_2010_female_name.txt\", \"r\")\n",
    "lines = 5\n",
    "namelist = []\n",
    "for lineindex in range(lines):\n",
    "    line = femBabyNames.readline()\n",
    "    namelist.append(line.strip())\n",
    "femBabyNames.close()\n",
    "print(namelist)\n",
    "\n",
    "\n",
    "# readlines()\n",
    "file = open(\"baby_2010_female_name.txt\", \"r\")\n",
    "contents = file.readlines()\n",
    "file.close()\n",
    "for line in contents:\n",
    "    print(line.strip())\n",
    "\n",
    "# w/o using any reading methods above\n",
    "femBabyNames = open(\"baby_2010_female_name.txt\", \"r\")\n",
    "namelist = []\n",
    "for lineindex in femBabyNames:\n",
    "    namelist.append(lineindex.strip())\n",
    "femBabyNames.close()\n",
>>>>>>> 715c8b1c233b3696846261045903e0e918ccd4f6:notes/sep7.ipynb
    "print(namelist)\n"
   ]
  },
  {
   "cell_type": "code",
<<<<<<< HEAD:notes/demo 9-5.ipynb
   "execution_count": null,
   "id": "76f1d9b3",
   "metadata": {},
   "outputs": [],
   "source": [
    "femBabyNames = open(\"baby_2010_female_namecount.txt\",\"r\")\n",
    "namelist = []\n",
    "for lineindex in femBabyNames:\n",
    "    namelist.append(lineindex.strip())"
=======
   "execution_count": 19,
   "id": "2f7ca6ac",
   "metadata": {},
   "outputs": [
    {
     "name": "stdout",
     "output_type": "stream",
     "text": [
      "['Isabella\\n', 'Sophia\\n', 'Emma\\n', 'Olivia\\n', 'Ava\\n']\n"
     ]
    }
   ],
   "source": [
    "# readline()\n",
    "femBabyNames = open(\"baby_2010_female_name.txt\", \"r\")\n",
    "namelist = []\n",
    "for lineindex in femBabyNames:\n",
    "    namelist.append(lineindex)\n",
    "femBabyNames.close()\n",
    "print(namelist)"
   ]
  },
  {
   "cell_type": "code",
   "execution_count": 24,
   "id": "34bb2269",
   "metadata": {},
   "outputs": [
    {
     "data": {
      "text/plain": [
       "'banana'"
      ]
     },
     "execution_count": 24,
     "metadata": {},
     "output_type": "execute_result"
    }
   ],
   "source": [
    "'    banana   '.strip()"
   ]
  },
  {
   "cell_type": "code",
   "execution_count": 27,
   "id": "c68aac08",
   "metadata": {},
   "outputs": [
    {
     "data": {
      "text/plain": [
       "'Isabella'"
      ]
     },
     "execution_count": 27,
     "metadata": {},
     "output_type": "execute_result"
    }
   ],
   "source": [
    "namelist[0].strip()"
   ]
  },
  {
   "cell_type": "code",
   "execution_count": 35,
   "id": "8ef96d1f",
   "metadata": {},
   "outputs": [
    {
     "data": {
      "text/plain": [
       "['Python is a ', ' programming language']"
      ]
     },
     "execution_count": 35,
     "metadata": {},
     "output_type": "execute_result"
    }
   ],
   "source": [
    "\"Python is a fun programming language\".split()\n",
    "\"Python is a fun programming language\".split('fun')"
   ]
  },
  {
   "cell_type": "code",
   "execution_count": 47,
   "id": "d8b0a268",
   "metadata": {},
   "outputs": [
    {
     "name": "stdout",
     "output_type": "stream",
     "text": [
      "['Isabella', 'Sophia', 'Emma', 'Olivia', 'Ava']\n",
      "['22913', '20643', '17345', '17028', '15433']\n"
     ]
    }
   ],
   "source": [
    "# baby name counts\n",
    "# get two lists where one contains baby names, and other contains counts\n",
    "# w/o using any reading methods above\n",
    "femBabyNames = open(\"baby_2010_female_namecount.txt\", \"r\")\n",
    "nameList = []\n",
    "countList = []\n",
    "for lineindex in femBabyNames:\n",
    "    line = lineindex.strip().split()\n",
    "    nameList.append(line[0])\n",
    "    countList.append(line[1])\n",
    "femBabyNames.close()\n",
    "print(nameList)\n",
    "print(countList)"
   ]
  },
  {
   "cell_type": "code",
   "execution_count": 49,
   "id": "10cfa389",
   "metadata": {},
   "outputs": [
    {
     "name": "stdout",
     "output_type": "stream",
     "text": [
      "['Isabella', 'Sophia', 'Emma', 'Olivia', 'Ava']\n",
      "['22913', '20643', '17345', '17028', '15433']\n"
     ]
    }
   ],
   "source": [
    "with open(\"baby_2010_female_namecount.txt\", \"r\") as femBabyNames:\n",
    "    # do stuff\n",
    "    nameList = []\n",
    "    countList = []\n",
    "    for lineindex in femBabyNames:\n",
    "        line = lineindex.strip().split()\n",
    "        nameList.append(line[0])\n",
    "        countList.append(line[1])\n",
    "    femBabyNames.close()\n",
    "    print(nameList)\n",
    "    print(countList)"
>>>>>>> 715c8b1c233b3696846261045903e0e918ccd4f6:notes/sep7.ipynb
   ]
  },
  {
   "cell_type": "code",
   "execution_count": null,
<<<<<<< HEAD:notes/demo 9-5.ipynb
   "id": "b274c461",
=======
   "id": "163daa7c",
>>>>>>> 715c8b1c233b3696846261045903e0e918ccd4f6:notes/sep7.ipynb
   "metadata": {},
   "outputs": [],
   "source": []
  }
 ],
 "metadata": {
  "kernelspec": {
   "display_name": "Python 3 (ipykernel)",
   "language": "python",
   "name": "python3"
  },
  "language_info": {
   "codemirror_mode": {
    "name": "ipython",
    "version": 3
   },
   "file_extension": ".py",
   "mimetype": "text/x-python",
   "name": "python",
   "nbconvert_exporter": "python",
   "pygments_lexer": "ipython3",
   "version": "3.11.4"
  }
 },
 "nbformat": 4,
 "nbformat_minor": 5
}
