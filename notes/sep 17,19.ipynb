{
 "cells": [
  {
   "cell_type": "code",
   "execution_count": 17,
   "id": "820d3e81",
   "metadata": {},
   "outputs": [
    {
     "data": {
      "text/plain": [
       "{'year': [2018, 2018, 2017, 2017, 2016, 2016],\n",
       " 'sex': ['Male', 'Female', 'Male', 'Female', 'Male', 'Female'],\n",
       " 'name': ['Liam', 'Emma', 'Liam', 'Emma', 'Noah', 'Emma'],\n",
       " 'count': [19837, 18688, 19800, 19117, 19496]}"
      ]
     },
     "execution_count": 17,
     "metadata": {},
     "output_type": "execute_result"
    }
   ],
   "source": [
    "topnames = {'year': [2018,2018,2017,2017,2016,2016],\n",
    "           'sex': ['Male','Female','Male','Female','Male','Female'],\n",
    "           'name': ['Liam','Emma','Liam','Emma','Noah','Emma'],\n",
    "           'count':[19837,18688,19800,19117,19496]}\n",
    "topnames"
   ]
  },
  {
   "cell_type": "code",
   "execution_count": 18,
   "id": "aaffce43",
   "metadata": {},
   "outputs": [
    {
     "data": {
      "text/plain": [
       "[2018, 2018, 2017, 2017, 2016, 2016]"
      ]
     },
     "execution_count": 18,
     "metadata": {},
     "output_type": "execute_result"
    }
   ],
   "source": [
    "topnames['year']"
   ]
  },
  {
   "cell_type": "code",
   "execution_count": 19,
   "id": "015d37d6",
   "metadata": {},
   "outputs": [
    {
     "name": "stdout",
     "output_type": "stream",
     "text": [
      "2017 Female Emma 19117\n"
     ]
    }
   ],
   "source": [
    "print(topnames['year'][3],topnames['sex'][3],topnames['name'][3],topnames['count'][3])"
   ]
  },
  {
   "cell_type": "code",
   "execution_count": 20,
   "id": "b05b9b2d",
   "metadata": {},
   "outputs": [],
   "source": [
    "topnames = {'year': [2018,2018,2017,2017,2016,2016],\n",
    "           'sex': ['Male','Female','Male','Female','Male','Female'],\n",
    "           'name': ['Liam','Emma','Liam','Emma','Noah','Emma'],\n",
    "           'count':[19837,18688,19800,19117,19496]}"
   ]
  },
  {
   "cell_type": "code",
   "execution_count": 21,
   "id": "e9de93f6",
   "metadata": {},
   "outputs": [
    {
     "name": "stdout",
     "output_type": "stream",
     "text": [
      "Requirement already satisfied: pandas in /Users/rahmasemma/anaconda3/lib/python3.11/site-packages (1.5.3)\n",
      "Requirement already satisfied: python-dateutil>=2.8.1 in /Users/rahmasemma/anaconda3/lib/python3.11/site-packages (from pandas) (2.8.2)\n",
      "Requirement already satisfied: pytz>=2020.1 in /Users/rahmasemma/anaconda3/lib/python3.11/site-packages (from pandas) (2022.7)\n",
      "Requirement already satisfied: numpy>=1.21.0 in /Users/rahmasemma/anaconda3/lib/python3.11/site-packages (from pandas) (1.24.3)\n",
      "Requirement already satisfied: six>=1.5 in /Users/rahmasemma/anaconda3/lib/python3.11/site-packages (from python-dateutil>=2.8.1->pandas) (1.16.0)\n",
      "Note: you may need to restart the kernel to use updated packages.\n"
     ]
    }
   ],
   "source": [
    "pip install pandas "
   ]
  },
  {
   "cell_type": "code",
   "execution_count": 22,
   "id": "448900ba",
   "metadata": {},
   "outputs": [],
   "source": [
    "import pandas as pd"
   ]
  },
  {
   "cell_type": "code",
   "execution_count": 23,
   "id": "34fa39d0",
   "metadata": {},
   "outputs": [
    {
     "name": "stdout",
     "output_type": "stream",
     "text": [
      "obj1    10\n",
      "obj2    30\n",
      "obj3    -6\n",
      "obj4     9\n",
      "dtype: int64\n"
     ]
    }
   ],
   "source": [
    "data= pd.Series([10,30,-6,9], index=['obj1','obj2','obj3','obj4'])\n",
    "print (data)\n"
   ]
  },
  {
   "cell_type": "code",
   "execution_count": 24,
   "id": "92cf02bf",
   "metadata": {},
   "outputs": [
    {
     "data": {
      "text/plain": [
       "10"
      ]
     },
     "execution_count": 24,
     "metadata": {},
     "output_type": "execute_result"
    }
   ],
   "source": [
    "data[0]"
   ]
  },
  {
   "cell_type": "code",
   "execution_count": 25,
   "id": "3650a073",
   "metadata": {},
   "outputs": [
    {
     "data": {
      "text/plain": [
       "10"
      ]
     },
     "execution_count": 25,
     "metadata": {},
     "output_type": "execute_result"
    }
   ],
   "source": [
    "data['obj1']"
   ]
  },
  {
   "cell_type": "code",
   "execution_count": 26,
   "id": "029611c1",
   "metadata": {},
   "outputs": [
    {
     "name": "stdout",
     "output_type": "stream",
     "text": [
      "california    3800000\n",
      "Texas         2600000\n",
      "dtype: int64\n"
     ]
    }
   ],
   "source": [
    "population_dict = {'california': 3800000,\n",
    "                  'Texas': 2600000}\n",
    "population = pd.Series(population_dict)\n",
    "print(population)"
   ]
  },
  {
   "cell_type": "code",
   "execution_count": 27,
   "id": "e88ad7c1",
   "metadata": {},
   "outputs": [
    {
     "data": {
      "text/plain": [
       "3800000"
      ]
     },
     "execution_count": 27,
     "metadata": {},
     "output_type": "execute_result"
    }
   ],
   "source": [
    "population['california']"
   ]
  },
  {
   "cell_type": "code",
   "execution_count": 28,
   "id": "4ae69b8d",
   "metadata": {},
   "outputs": [
    {
     "data": {
      "text/plain": [
       "10.75"
      ]
     },
     "execution_count": 28,
     "metadata": {},
     "output_type": "execute_result"
    }
   ],
   "source": [
    "data.mean()"
   ]
  },
  {
   "cell_type": "code",
   "execution_count": 29,
   "id": "7b8a3761",
   "metadata": {},
   "outputs": [
    {
     "data": {
      "text/plain": [
       "<bound method NDFrame._add_numeric_operations.<locals>.max of obj1    10\n",
       "obj2    30\n",
       "obj3    -6\n",
       "obj4     9\n",
       "dtype: int64>"
      ]
     },
     "execution_count": 29,
     "metadata": {},
     "output_type": "execute_result"
    }
   ],
   "source": [
    "data.max"
   ]
  },
  {
   "cell_type": "code",
   "execution_count": 30,
   "id": "1df47a75",
   "metadata": {},
   "outputs": [
    {
     "data": {
      "text/plain": [
       "14.773286702694158"
      ]
     },
     "execution_count": 30,
     "metadata": {},
     "output_type": "execute_result"
    }
   ],
   "source": [
    "data.std()"
   ]
  },
  {
   "cell_type": "code",
   "execution_count": 31,
   "id": "20c0cc04",
   "metadata": {},
   "outputs": [
    {
     "name": "stderr",
     "output_type": "stream",
     "text": [
      "/Users/rahmasemma/anaconda3/lib/python3.11/site-packages/pandas/core/arraylike.py:402: RuntimeWarning: invalid value encountered in sqrt\n",
      "  result = getattr(ufunc, method)(*inputs, **kwargs)\n"
     ]
    },
    {
     "data": {
      "text/plain": [
       "obj1    3.162278\n",
       "obj2    5.477226\n",
       "obj3         NaN\n",
       "obj4    3.000000\n",
       "dtype: float64"
      ]
     },
     "execution_count": 31,
     "metadata": {},
     "output_type": "execute_result"
    }
   ],
   "source": [
    "import numpy as np\n",
    "np.sqrt(data)\n"
   ]
  },
  {
   "cell_type": "code",
   "execution_count": 33,
   "id": "2c96901f",
   "metadata": {},
   "outputs": [
    {
     "ename": "SyntaxError",
     "evalue": "invalid syntax (206120583.py, line 2)",
     "output_type": "error",
     "traceback": [
      "\u001b[0;36m  Cell \u001b[0;32mIn[33], line 2\u001b[0;36m\u001b[0m\n\u001b[0;31m    df = pd.read_csv(https://github.com/ernbilen/Data200_Fall23/blob/main/data/countries.csv)\u001b[0m\n\u001b[0m                          ^\u001b[0m\n\u001b[0;31mSyntaxError\u001b[0m\u001b[0;31m:\u001b[0m invalid syntax\n"
     ]
    }
   ],
   "source": [
    "#create \n",
    "df = pd.read_csv(https://github.com/ernbilen/Data200_Fall23/blob/main/data/countries.csv)\n",
    "df"
   ]
  },
  {
   "cell_type": "code",
   "execution_count": null,
   "id": "bc71876f",
   "metadata": {},
   "outputs": [],
   "source": [
    "#checks each column's\n",
    "print(df.dtypes)\n",
    "print(df.shape)\n",
    "print"
   ]
  },
  {
   "cell_type": "code",
   "execution_count": 34,
   "id": "d461149c",
   "metadata": {},
   "outputs": [],
   "source": [
    "dataDoL={'name':['Bella','Charlie','Lucy','Coooper','Max','Stella','Bernie'], \n",
    "         'breed':['Labrador','Poodle','ChowChow','Schnauzer','Labrador','Chihuahua','St.Bernard'],\n",
    "         'color': ['Brown','Black','Brown','Gray','Black','Tan','White'], \n",
    "         'height_cm':[56,43,46,49,59,18,77], 'weight_kg':[24,24,24,17,29,2,74], \n",
    "         'date_of_birth':['2013-07-01','2016-09-16','2014-08-25','2011-12-11','2017-01-28',\\\n",
    "                          '2015-04-20', '2018-02-27']}"
   ]
  },
  {
   "cell_type": "code",
   "execution_count": 37,
   "id": "4e96f937",
   "metadata": {},
   "outputs": [
    {
     "data": {
      "text/html": [
       "<div>\n",
       "<style scoped>\n",
       "    .dataframe tbody tr th:only-of-type {\n",
       "        vertical-align: middle;\n",
       "    }\n",
       "\n",
       "    .dataframe tbody tr th {\n",
       "        vertical-align: top;\n",
       "    }\n",
       "\n",
       "    .dataframe thead th {\n",
       "        text-align: right;\n",
       "    }\n",
       "</style>\n",
       "<table border=\"1\" class=\"dataframe\">\n",
       "  <thead>\n",
       "    <tr style=\"text-align: right;\">\n",
       "      <th></th>\n",
       "      <th>name</th>\n",
       "      <th>breed</th>\n",
       "      <th>color</th>\n",
       "      <th>height_cm</th>\n",
       "      <th>weight_kg</th>\n",
       "      <th>date_of_birth</th>\n",
       "    </tr>\n",
       "  </thead>\n",
       "  <tbody>\n",
       "    <tr>\n",
       "      <th>0</th>\n",
       "      <td>Bella</td>\n",
       "      <td>Labrador</td>\n",
       "      <td>Brown</td>\n",
       "      <td>56</td>\n",
       "      <td>24</td>\n",
       "      <td>2013-07-01</td>\n",
       "    </tr>\n",
       "    <tr>\n",
       "      <th>1</th>\n",
       "      <td>Charlie</td>\n",
       "      <td>Poodle</td>\n",
       "      <td>Black</td>\n",
       "      <td>43</td>\n",
       "      <td>24</td>\n",
       "      <td>2016-09-16</td>\n",
       "    </tr>\n",
       "    <tr>\n",
       "      <th>2</th>\n",
       "      <td>Lucy</td>\n",
       "      <td>ChowChow</td>\n",
       "      <td>Brown</td>\n",
       "      <td>46</td>\n",
       "      <td>24</td>\n",
       "      <td>2014-08-25</td>\n",
       "    </tr>\n",
       "    <tr>\n",
       "      <th>3</th>\n",
       "      <td>Coooper</td>\n",
       "      <td>Schnauzer</td>\n",
       "      <td>Gray</td>\n",
       "      <td>49</td>\n",
       "      <td>17</td>\n",
       "      <td>2011-12-11</td>\n",
       "    </tr>\n",
       "    <tr>\n",
       "      <th>4</th>\n",
       "      <td>Max</td>\n",
       "      <td>Labrador</td>\n",
       "      <td>Black</td>\n",
       "      <td>59</td>\n",
       "      <td>29</td>\n",
       "      <td>2017-01-28</td>\n",
       "    </tr>\n",
       "    <tr>\n",
       "      <th>5</th>\n",
       "      <td>Stella</td>\n",
       "      <td>Chihuahua</td>\n",
       "      <td>Tan</td>\n",
       "      <td>18</td>\n",
       "      <td>2</td>\n",
       "      <td>2015-04-20</td>\n",
       "    </tr>\n",
       "    <tr>\n",
       "      <th>6</th>\n",
       "      <td>Bernie</td>\n",
       "      <td>St.Bernard</td>\n",
       "      <td>White</td>\n",
       "      <td>77</td>\n",
       "      <td>74</td>\n",
       "      <td>2018-02-27</td>\n",
       "    </tr>\n",
       "  </tbody>\n",
       "</table>\n",
       "</div>"
      ],
      "text/plain": [
       "      name       breed  color  height_cm  weight_kg date_of_birth\n",
       "0    Bella    Labrador  Brown         56         24    2013-07-01\n",
       "1  Charlie      Poodle  Black         43         24    2016-09-16\n",
       "2     Lucy    ChowChow  Brown         46         24    2014-08-25\n",
       "3  Coooper   Schnauzer   Gray         49         17    2011-12-11\n",
       "4      Max    Labrador  Black         59         29    2017-01-28\n",
       "5   Stella   Chihuahua    Tan         18          2    2015-04-20\n",
       "6   Bernie  St.Bernard  White         77         74    2018-02-27"
      ]
     },
     "execution_count": 37,
     "metadata": {},
     "output_type": "execute_result"
    }
   ],
   "source": [
    "df = pd.DataFrame(dataDoL)\n",
    "df"
   ]
  },
  {
   "cell_type": "code",
   "execution_count": null,
   "id": "4dfe2306",
   "metadata": {},
   "outputs": [],
   "source": []
  }
 ],
 "metadata": {
  "kernelspec": {
   "display_name": "Python 3 (ipykernel)",
   "language": "python",
   "name": "python3"
  },
  "language_info": {
   "codemirror_mode": {
    "name": "ipython",
    "version": 3
   },
   "file_extension": ".py",
   "mimetype": "text/x-python",
   "name": "python",
   "nbconvert_exporter": "python",
   "pygments_lexer": "ipython3",
   "version": "3.11.4"
  }
 },
 "nbformat": 4,
 "nbformat_minor": 5
}
