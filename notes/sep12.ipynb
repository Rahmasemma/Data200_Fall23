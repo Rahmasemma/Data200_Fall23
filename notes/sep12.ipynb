{
 "cells": [
  {
   "cell_type": "code",
   "execution_count": 1,
   "id": "3de9e78d",
   "metadata": {},
   "outputs": [],
   "source": [
    "import numpy as np"
   ]
  },
  {
   "cell_type": "code",
   "execution_count": 2,
   "id": "4ec44637",
   "metadata": {},
   "outputs": [
    {
     "data": {
      "text/plain": [
       "[1.8288, 1.7271999999999998, 1.7526, 1.7271999999999998, 1.8288, 1.8288]"
      ]
     },
     "execution_count": 2,
     "metadata": {},
     "output_type": "execute_result"
    }
   ],
   "source": [
    "# create a list of height obs in inches\n",
    "height = [72, 68, 69, 68, 72, 72]\n",
    "\n",
    "# convert these obs to meters, conversion is inches*0.0254\n",
    "#height*0.0254\n",
    "\n",
    "height_m = [0 for _ in range(len(height))]\n",
    "\n",
    "for i in range(len(height)):\n",
    "    height_m[i] = height[i]*0.0254\n",
    "height_m"
   ]
  },
  {
   "cell_type": "code",
   "execution_count": 3,
   "id": "55ee8662",
   "metadata": {},
   "outputs": [
    {
     "data": {
      "text/plain": [
       "array([1.8288, 1.7272, 1.7526, 1.7272, 1.8288, 1.8288])"
      ]
     },
     "execution_count": 3,
     "metadata": {},
     "output_type": "execute_result"
    }
   ],
   "source": [
    "np_height = np.array(height)\n",
    "np_height*0.0254"
   ]
  },
  {
   "cell_type": "code",
   "execution_count": 17,
   "id": "8a4a625b",
   "metadata": {},
   "outputs": [
    {
     "data": {
      "text/plain": [
       "array([ 3,  7, 11])"
      ]
     },
     "execution_count": 17,
     "metadata": {},
     "output_type": "execute_result"
    }
   ],
   "source": [
    "# one difference between lists and numpy arrays\n",
    "mylist1 = [2,4,6]\n",
    "mylist2 = [1,3,5]\n",
    "\n",
    "mylist1 + mylist2 # appends\n",
    "\n",
    "np_mylist1 = np.array(mylist1)\n",
    "np_mylist2 = np.array(mylist2)\n",
    "np_mylist1 + np_mylist2"
   ]
  },
  {
   "cell_type": "code",
   "execution_count": 23,
   "id": "f0b6318d",
   "metadata": {},
   "outputs": [
    {
     "name": "stdout",
     "output_type": "stream",
     "text": [
      "10\n",
      "[10 25 23]\n",
      "[25 23  7]\n",
      "[ 7 23 25 10  5]\n"
     ]
    }
   ],
   "source": [
    "age = np.array([5,10,25,23,7])\n",
    "# return the second element in age\n",
    "print(age[1])\n",
    "# return numbers 10 through 23\n",
    "print(age[1:4])\n",
    "# return all numbers from 25\n",
    "print(age[2:])\n",
    "# reverse the array\n",
    "print(age[::-1])"
   ]
  },
  {
   "cell_type": "code",
   "execution_count": 27,
   "id": "3cbbf401",
   "metadata": {},
   "outputs": [
    {
     "name": "stdout",
     "output_type": "stream",
     "text": [
      "[ 2.   2.2  2.4  2.6  2.8  3.   3.2  3.4  3.6  3.8  4.   4.2  4.4  4.6\n",
      "  4.8  5.   5.2  5.4  5.6  5.8  6.   6.2  6.4  6.6  6.8  7.   7.2  7.4\n",
      "  7.6  7.8  8.   8.2  8.4  8.6  8.8  9.   9.2  9.4  9.6  9.8 10. ]\n"
     ]
    }
   ],
   "source": [
    "# create a numpy vector of numbers between 2,10 with steps of 2\n",
    "#print(np.arange(2,11,2))\n",
    "# create a numpy vector of numbers between 2,10 with steps of .2\n",
    "print(np.arange(2,10.2,.2))"
   ]
  },
  {
   "cell_type": "code",
   "execution_count": 37,
   "id": "426b3fa8",
   "metadata": {},
   "outputs": [
    {
     "name": "stdout",
     "output_type": "stream",
     "text": [
      "[ 5 10 25 23  7]\n",
      "[25 23]\n",
      "[ 5 25 23  7]\n",
      "[ 5 25 23  7]\n",
      "[ 5 25 23  7]\n"
     ]
    }
   ],
   "source": [
    "print(age)\n",
    "# return where age > 20\n",
    "print(age[age>20])\n",
    "# return where age <10 or age > 20\n",
    "# or: |\n",
    "# and: &\n",
    "# not: ~ \n",
    "# not equals: !=\n",
    "# equals: ==\n",
    "print(age[(age<10)|(age>20)])\n",
    "# return where age is not 10\n",
    "print(age[~(age==10)])\n",
    "print(age[age!=10])"
   ]
  },
  {
   "cell_type": "code",
   "execution_count": 54,
   "id": "24b2b832",
   "metadata": {},
   "outputs": [
    {
     "name": "stdout",
     "output_type": "stream",
     "text": [
      "[[ 72  68  69  68  72  72]\n",
      " [200 160 150 210 200 100]]\n",
      "2\n",
      "12\n",
      "(2, 6)\n",
      "160\n",
      "[160 150 210 200 100]\n"
     ]
    }
   ],
   "source": [
    "# 2d arrays in numpy\n",
    "height\n",
    "\n",
    "# weight in lbs\n",
    "weight = [200, 160, 150, 210, 200, 100]\n",
    "\n",
    "mydata = np.array([height,weight])\n",
    "print(mydata)\n",
    "\n",
    "print(mydata.ndim)\n",
    "print(mydata.size)\n",
    "print(mydata.shape)\n",
    "\n",
    "print(mydata[1,1])\n",
    "# everything in row 2 from 160\n",
    "print(mydata[1,1:])"
   ]
  },
  {
   "cell_type": "code",
   "execution_count": 70,
   "id": "d37152a0",
   "metadata": {},
   "outputs": [
    {
     "data": {
      "text/plain": [
       "array([[1, 2, 3],\n",
       "       [4, 5, 6],\n",
       "       [7, 8, 9]])"
      ]
     },
     "execution_count": 70,
     "metadata": {},
     "output_type": "execute_result"
    }
   ],
   "source": [
    "# reshaping arrays in numpy\n",
    "x = np.arange(1,10)\n",
    "#print(x)\n",
    "A = x.reshape(3,3)\n",
    "print(A)\n",
    "\n",
    "# resize() does the same, but overwrites\n",
    "# reshape() does not overwrite\n",
    "#x.resize(3,3)"
   ]
  },
  {
   "cell_type": "code",
   "execution_count": 77,
   "id": "825597cf",
   "metadata": {},
   "outputs": [
    {
     "name": "stdout",
     "output_type": "stream",
     "text": [
      "[[1 2 3]\n",
      " [4 5 6]\n",
      " [7 8 9]]\n"
     ]
    }
   ],
   "source": [
    "A = x.reshape(-1,3) # -1 is a wildcard\n",
    "print(A)"
   ]
  },
  {
   "cell_type": "code",
   "execution_count": 85,
   "id": "b3b22c39",
   "metadata": {},
   "outputs": [
    {
     "data": {
      "text/plain": [
       "array([[ 1.8288, 30.838 ],\n",
       "       [ 1.7526, 30.838 ],\n",
       "       [ 1.8288, 32.652 ],\n",
       "       [ 5.08  , 72.56  ],\n",
       "       [ 3.81  , 95.235 ],\n",
       "       [ 5.08  , 45.35  ]])"
      ]
     },
     "execution_count": 85,
     "metadata": {},
     "output_type": "execute_result"
    }
   ],
   "source": [
    "# convert height obs from inches to m (conversion is inches*0.0254)\n",
    "# and weight from lbs to kg (conversion is lbs*0.4535)\n",
    "mydata\n",
    "# create a multiplier numpy array object named my_multiplier\n",
    "my_multiplier = np.array([0.0254,0.4535])\n",
    "\n",
    "mydata.reshape(6,2)*my_multiplier"
   ]
  },
  {
   "cell_type": "code",
   "execution_count": null,
   "id": "29f479d2",
   "metadata": {},
   "outputs": [],
   "source": []
  }
 ],
 "metadata": {
  "kernelspec": {
   "display_name": "Python 3 (ipykernel)",
   "language": "python",
   "name": "python3"
  },
  "language_info": {
   "codemirror_mode": {
    "name": "ipython",
    "version": 3
   },
   "file_extension": ".py",
   "mimetype": "text/x-python",
   "name": "python",
   "nbconvert_exporter": "python",
   "pygments_lexer": "ipython3",
   "version": "3.11.4"
  }
 },
 "nbformat": 4,
 "nbformat_minor": 5
}
