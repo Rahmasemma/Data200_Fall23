{
 "cells": [
  {
   "cell_type": "markdown",
   "metadata": {},
   "source": [
    "# Data 200: Data Systems for Data Analytics\n"
   ]
  },
  {
   "cell_type": "markdown",
   "metadata": {},
   "source": [
    "# Homework 1: File Processing in Python\n",
    "\n",
    "\n",
    "<font color='red'>**Due Date**: Sep 14 beginning of class </font>\n",
    "---\n",
    "Enter your name in the markdown cell below."
   ]
  },
  {
   "cell_type": "markdown",
   "metadata": {},
   "source": [
    "# Name:"
   ]
  },
  {
   "cell_type": "code",
   "execution_count": 10,
   "metadata": {},
   "outputs": [],
   "source": [
    "import numpy as np\n",
    "import os"
   ]
  },
  {
   "cell_type": "markdown",
   "metadata": {},
   "source": [
    "# Tasks\n",
    "\n",
    "- Read pages 17-48 in the textbook, Bressoud and White.\n",
    "- Push your completed Jupyter notebook + its exported Markdown file."
   ]
  },
  {
   "cell_type": "markdown",
   "metadata": {},
   "source": [
    "# Exercises"
   ]
  },
  {
   "cell_type": "markdown",
   "metadata": {},
   "source": [
    "The file `quotes.txt` in the `data` folder contains five famous quotes. The file is organized so that the quote is on one line and then the name of the person to whom the quote is attributed on the next line.  This is repeated for 5 different quotes. Open up the file with your text editor to inspect it. "
   ]
  },
  {
   "cell_type": "markdown",
   "metadata": {},
   "source": [
    "<div class=\"exercise\"><b>Exercise 1</b></div> \n",
    "\n",
    "Write Python statements to <br>\n",
    "\n",
    "- Open the `quotes.txt` file\n",
    "- Read and print the first line of the file (using the `readline()` method)\n",
    "- Close the file\n",
    "\n",
    "The output from my solution is:<br>\n",
    "\n",
    "<code>\n",
    "When you reach the end of your rope, tie a knot in it and hang on.</code>"
   ]
  },
  {
   "cell_type": "code",
   "execution_count": 14,
   "metadata": {
    "scrolled": true
   },
   "outputs": [
    {
     "name": "stdout",
     "output_type": "stream",
     "text": [
      "When you reach the end of your rope, tie a knot in it and hang on.\n",
      "\n"
     ]
    }
   ],
   "source": [
    "f_p = '/Users/rahmasemma/Documents/GitHub/Data200_Fall23/homework/hw1/data/quotes.txt'\n",
    "\n",
    "try:\n",
    "    with open(f_p, 'r') as file:\n",
    "        f1 = file.readline()\n",
    "        print(f1)\n",
    "except FileNotFoundError:\n",
    "    print(f'File not found.')"
   ]
  },
  {
   "cell_type": "markdown",
   "metadata": {},
   "source": [
    "<div class=\"exercise\"><b>Exercise 2</b></div> \n",
    "\n",
    "Write Python statements to <br>\n",
    "\n",
    "- Open the `quotes.txt` file\n",
    "- Read all of the lines of the file using the `readlines(.)` method\n",
    "- Print all the lines using a for-loop\n",
    "- Close the file\n",
    "\n",
    "The output from my solution is:<br>\n",
    "\n",
    "<code>\n",
    "When you reach the end of your rope, tie a knot in it and hang on.\n",
    "Franklin D. Roosevelt\n",
    "Always remember that you are absolutely unique. Just like everyone else.\n",
    "Margaret Mead\n",
    "The best and most beautiful things in the world cannot be seen or even touched — they must be felt with the heart.\n",
    "Helen Keller\n",
    "Success depends upon previous preparation, and without such preparation, there is sure to be failure.\n",
    "Confucius\n",
    "The journey of a thousand miles begins with one step.\n",
    "Lao Tzu</code>"
   ]
  },
  {
   "cell_type": "code",
   "execution_count": 15,
   "metadata": {},
   "outputs": [
    {
     "name": "stdout",
     "output_type": "stream",
     "text": [
      "When you reach the end of your rope, tie a knot in it and hang on.\n",
      "Franklin D. Roosevelt\n",
      "Always remember that you are absolutely unique. Just like everyone else.\n",
      "Margaret Mead\n",
      "The best and most beautiful things in the world cannot be seen or even touched — they must be felt with the heart.\n",
      "Helen Keller\n",
      "Success depends upon previous preparation, and without such preparation, there is sure to be failure.\n",
      "Confucius\n",
      "The journey of a thousand miles begins with one step.\n",
      "Lao Tzu\n"
     ]
    }
   ],
   "source": [
    "try:\n",
    "    with open(f_p, 'r') as file:\n",
    "        lines = file.readlines()\n",
    "        \n",
    "        for line in lines:\n",
    "            print(line.strip())\n",
    "            \n",
    "except FileNotFoundError:\n",
    "    print(f'File not found.')"
   ]
  },
  {
   "cell_type": "markdown",
   "metadata": {},
   "source": [
    "Run the cell below that defines a few `string` variables."
   ]
  },
  {
   "cell_type": "code",
   "execution_count": 16,
   "metadata": {},
   "outputs": [],
   "source": [
    "s1 = \"Yeah, we fancy like Applebee's on a date night\"\n",
    "s2 = \"Got that Bourbon Street steak with the Oreo shake\"\n",
    "s3 = \"Get some whipped cream on the top too\"\n",
    "s4 = \"Two straws, one check, girl, I got you\""
   ]
  },
  {
   "cell_type": "markdown",
   "metadata": {},
   "source": [
    "<div class=\"exercise\"><b>Exercise 3</b></div> \n",
    "\n",
    "Write Python statements that use the `split(.)` method (remember that the default separator is any whitespace) to print out:<br>\n",
    "\n",
    "a) The 5th word (index 4) of `s1`<br>\n",
    "b) The last word of `s2`<br>\n",
    "\n",
    "The output from my solution is:<br>\n",
    "\n",
    "<code>\n",
    "Applebee's\n",
    "shake</code>"
   ]
  },
  {
   "cell_type": "code",
   "execution_count": 18,
   "metadata": {},
   "outputs": [
    {
     "name": "stdout",
     "output_type": "stream",
     "text": [
      "Applebee's\n",
      "shake\n"
     ]
    }
   ],
   "source": [
    "pick_s1 = s1.split()\n",
    "pick_s2 = s2.split()\n",
    "\n",
    "print(pick_s1[4])\n",
    "print(pick_s2[8])"
   ]
  },
  {
   "cell_type": "markdown",
   "metadata": {},
   "source": [
    "<div class=\"exercise\"><b>Exercise 4</b></div> \n",
    "\n",
    "Write Python statements that determines the number of words in the `quotes.txt` file. Specifically,\n",
    "- Open the file `quotes.txt`\n",
    "- Read the entire file using the `read(.)` method and assign it to a string\n",
    "- Use the `split(.)` method to split the string using the default separator (whitespace)\n",
    "- Use the `len(.)` method to determine the number of words\n",
    "- Print the number of words.\n",
    "The output from my solution is:<br>\n",
    "<code>\n",
    "The number of words is 85</code>"
   ]
  },
  {
   "cell_type": "code",
   "execution_count": 21,
   "metadata": {},
   "outputs": [
    {
     "name": "stdout",
     "output_type": "stream",
     "text": [
      "The number of words is 85\n"
     ]
    }
   ],
   "source": [
    "try:\n",
    "    with open(f_p,'r') as file:\n",
    "        ax = file.read()\n",
    "        s_t = ax.split()\n",
    "        n_l = len(s_t)\n",
    "        \n",
    "        print(\"The number of words is\",n_l)\n",
    "        \n",
    "except FileNotFoundError:\n",
    "    \n",
    "    print(f'File not found.')"
   ]
  },
  {
   "cell_type": "markdown",
   "metadata": {},
   "source": [
    "<div class=\"exercise\"><b>Exercise 5</b></div> \n",
    "\n",
    "Write Python code that processes the file `quotes.txt`, line by line, and accumulates and returns a list of tuples, one per line. Each tuple consists of the two values of the line number and the number of words on the line (line numbers in a file start at 1). Finally, print the list of tuples.  It might be helpful to review the `readNames(.)` method.\n",
    "\n",
    "The output from my solution is:<br>\n",
    "<code>\n",
    "[[1, 16], [2, 3], [3, 11], [4, 2], [5, 23], [6, 2], [7, 15], [8, 1], [9, 10], [10, 2]]</code>"
   ]
  },
  {
   "cell_type": "code",
   "execution_count": 41,
   "metadata": {},
   "outputs": [
    {
     "name": "stdout",
     "output_type": "stream",
     "text": [
      "[[1, 16], [2, 3], [3, 11], [4, 2], [5, 23], [6, 2], [7, 15], [8, 1], [9, 10], [10, 2]]\n"
     ]
    }
   ],
   "source": [
    "try:\n",
    "    with open(f_p, 'r') as file:\n",
    "        line_n = 1  \n",
    "        l_list = []  \n",
    "        \n",
    "        for line in file:\n",
    "            words = line.split()\n",
    "\n",
    "            n_w = len(words)\n",
    "\n",
    "            l_info = (line_n, n_w)\n",
    "\n",
    "            l_list.append(l_info)\n",
    "\n",
    "            line_n += 1\n",
    "            \n",
    "            list_of_lists = [[line_n, n_w] for line_n, n_w in l_list]\n",
    "\n",
    "#         for item in list_of_lists:\n",
    "        print(list_of_lists)\n",
    "\n",
    "except FileNotFoundError:\n",
    "    print(f'File not found.')"
   ]
  },
  {
   "cell_type": "markdown",
   "metadata": {},
   "source": [
    "<div class=\"exercise\"><b>Exercise 6</b></div> \n",
    "\n",
    "Write a function `numWordsPerLine(filepath)` that processes the file as in **Exercise 5** and returns the tuple produced (this is just to give you practice writing code as functions)--we will use the function shortly. Note that `filepath` should be the path to the input file."
   ]
  },
  {
   "cell_type": "code",
   "execution_count": 48,
   "metadata": {},
   "outputs": [
    {
     "name": "stdout",
     "output_type": "stream",
     "text": [
      "[(1, 16), (2, 3), (3, 11), (4, 2), (5, 23), (6, 2), (7, 15), (8, 1), (9, 10), (10, 2)]\n"
     ]
    }
   ],
   "source": [
    "def numWordsPerLine(f_p):\n",
    "    try:\n",
    "       \n",
    "        with open(f_p, 'r') as file:\n",
    "            line_number = 1  \n",
    "            line_info_list = []  \n",
    "\n",
    "            \n",
    "            for line in file:\n",
    "                \n",
    "                words = line.split()\n",
    "\n",
    "                num_words = len(words)\n",
    "\n",
    "                line_info = (line_number, num_words)\n",
    "\n",
    "                line_info_list.append(line_info)\n",
    "\n",
    "        \n",
    "                line_number += 1\n",
    "\n",
    "            return line_info_list\n",
    "\n",
    "    except FileNotFoundError:\n",
    "        print(f'File not found: {filepath}')\n",
    "        return []\n",
    "print(numWordsPerLine(f_p))"
   ]
  },
  {
   "cell_type": "markdown",
   "metadata": {},
   "source": [
    "Let's now get some practice using the `os.path.join(.)` method.  Run the following code cell"
   ]
  },
  {
   "cell_type": "code",
   "execution_count": 49,
   "metadata": {},
   "outputs": [],
   "source": [
    "import os\n",
    "\n",
    "datadir = \"data\""
   ]
  },
  {
   "cell_type": "markdown",
   "metadata": {},
   "source": [
    "<div class=\"exercise\"><b>Exercise 7</b></div> \n",
    "\n",
    "There is text file called `summerDay.txt` in the `data` folder.  Create a file path called `filepath` by using the `os.path.join(.)` method to join together `datadir` and the name of the file `summerDay.txt`.  Then call the function `numWordsPerLine(filepath)` you wrote in **Exercise 6** and pass in `filepath`.\n",
    "\n",
    "The output from my solution is:<br>\n",
    "<code>\n",
    "[[1, 8], [2, 7], [3, 9], [4, 9], [5, 8], [6, 7], [7, 7], [8, 7], [9, 7], [10, 8], [11, 9], [12, 8], [13, 10], [14, 10]]</code>"
   ]
  },
  {
   "cell_type": "code",
   "execution_count": 50,
   "metadata": {},
   "outputs": [
    {
     "name": "stdout",
     "output_type": "stream",
     "text": [
      "[(1, 8), (2, 7), (3, 9), (4, 9), (5, 8), (6, 7), (7, 7), (8, 7), (9, 7), (10, 8), (11, 9), (12, 8), (13, 10), (14, 10)]\n"
     ]
    }
   ],
   "source": [
    "f_p = os.path.join(datadir, \"SummerDay.txt\")\n",
    "\n",
    "code = numWordsPerLine(f_p)\n",
    "\n",
    "print(code)"
   ]
  },
  {
   "cell_type": "markdown",
   "metadata": {},
   "source": [
    "<div class=\"exercise\"><b>Exercise 8</b></div> \n",
    "\n",
    "There is text file called `babyNames.txt` in the `data` folder as depicted below:\n",
    "\n",
    "    22127,      Jacob\n",
    "    18002,      Ethan\n",
    "    17350,    Michael\n",
    "    17179,     Jayden\n",
    "    17051,    William\n",
    "    16756,  Alexander\n",
    "    \n",
    "Each line of the file captures one data case/observation. The values are separated by commas, with the count occurring first and the name second, and *spaces* (not tabs)  are used to align the columns of data to make it easier for a human reader.\n",
    "\n",
    "In the cell below, **complete the function**\n",
    "\n",
    "    `readNamesCounts(filepath)`\n",
    "\n",
    "that processes the filepath file and returns two lists: `namelist` = list of names and `countlist` = integer counts. To accomplish this, modify the `readNamesCounts(.)` function (be sure to use the `with open()` approach). You may need to call `strip()` twice, once to remove the newline `\\n` characters and again later to remove the spaces.\n",
    "\n",
    "The output from my solution is:<br>\n",
    "<code>\n",
    "['Jacob', 'Ethan', 'Michael', 'Jayden', 'William', 'Alexander']\n",
    "[22127, 18002, 17350, 17179, 17051, 16756]</code>"
   ]
  },
  {
   "cell_type": "code",
   "execution_count": 58,
   "metadata": {},
   "outputs": [
    {
     "name": "stdout",
     "output_type": "stream",
     "text": [
      "['Jacob', 'Ethan', 'Michael', 'Jayden', 'William', 'Alexander']\n",
      "[22127, 18002, 17350, 17179, 17051, 16756]\n"
     ]
    }
   ],
   "source": [
    "def readNamesCounts(f_p):\n",
    "    namelist = []\n",
    "    countlist = []\n",
    "    ## FINISH THE FUNCTION HERE\n",
    "    with open(f_p, 'r') as file:\n",
    "        for line in file:\n",
    "            line = line.strip()  \n",
    "            count, name = line.split(',') \n",
    "            count = int(count.strip())  \n",
    "            name = name.strip()  \n",
    "            namelist.append(name)\n",
    "            countlist.append(count)\n",
    "\n",
    "    return namelist, countlist\n",
    "\n",
    "# Usage example:\n",
    "f_p = \"/Users/rahmasemma/Documents/GitHub/Data200_Fall23/homework/hw1/data/babyNames.txt\"  # Replace with the actual path to your file\n",
    "namelist, countlist = readNamesCounts(filepath)\n",
    "\n",
    "# You can print or use namelist and countlist as needed\n",
    "#print(namelist)\n",
    "#print(countlist)\n",
    "\n",
    "f_p = os.path.join(datadir, \"babyNames.txt\")\n",
    "namelist, countlist = readNamesCounts(filepath)\n",
    "print(namelist)\n",
    "print(countlist)"
   ]
  },
  {
   "cell_type": "code",
   "execution_count": null,
   "metadata": {},
   "outputs": [],
   "source": []
  }
 ],
 "metadata": {
  "celltoolbar": "Raw Cell Format",
  "kernelspec": {
   "display_name": "Python 3 (ipykernel)",
   "language": "python",
   "name": "python3"
  },
  "language_info": {
   "codemirror_mode": {
    "name": "ipython",
    "version": 3
   },
   "file_extension": ".py",
   "mimetype": "text/x-python",
   "name": "python",
   "nbconvert_exporter": "python",
   "pygments_lexer": "ipython3",
   "version": "3.11.4"
  }
 },
 "nbformat": 4,
 "nbformat_minor": 2
}
